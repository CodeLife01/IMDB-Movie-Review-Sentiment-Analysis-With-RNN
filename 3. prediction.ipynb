{
 "cells": [
  {
   "cell_type": "code",
   "execution_count": 1,
   "metadata": {},
   "outputs": [],
   "source": [
    "### Step 1: Import Libraries and Load the model\n",
    "import numpy as np\n",
    "import tensorflow as tf\n",
    "from tensorflow.keras.datasets import imdb\n",
    "from tensorflow.keras.preprocessing import sequence\n",
    "from tensorflow.keras.models import load_model\n"
   ]
  },
  {
   "cell_type": "code",
   "execution_count": 4,
   "metadata": {},
   "outputs": [],
   "source": [
    "## Load the IMDB datset word index\n",
    "word_index = imdb.get_word_index()\n",
    "reversed_word_index = {value: key for key, value in word_index.items()}"
   ]
  },
  {
   "cell_type": "code",
   "execution_count": 5,
   "metadata": {},
   "outputs": [
    {
     "name": "stderr",
     "output_type": "stream",
     "text": [
      "2025-03-29 17:52:11.236922: E external/local_xla/xla/stream_executor/cuda/cuda_platform.cc:51] failed call to cuInit: INTERNAL: CUDA error: Failed call to cuInit: UNKNOWN ERROR (303)\n",
      "WARNING:absl:Compiled the loaded model, but the compiled metrics have yet to be built. `model.compile_metrics` will be empty until you train or evaluate the model.\n"
     ]
    },
    {
     "data": {
      "text/html": [
       "<pre style=\"white-space:pre;overflow-x:auto;line-height:normal;font-family:Menlo,'DejaVu Sans Mono',consolas,'Courier New',monospace\"><span style=\"font-weight: bold\">Model: \"sequential_4\"</span>\n",
       "</pre>\n"
      ],
      "text/plain": [
       "\u001b[1mModel: \"sequential_4\"\u001b[0m\n"
      ]
     },
     "metadata": {},
     "output_type": "display_data"
    },
    {
     "data": {
      "text/html": [
       "<pre style=\"white-space:pre;overflow-x:auto;line-height:normal;font-family:Menlo,'DejaVu Sans Mono',consolas,'Courier New',monospace\">┏━━━━━━━━━━━━━━━━━━━━━━━━━━━━━━━━━┳━━━━━━━━━━━━━━━━━━━━━━━━┳━━━━━━━━━━━━━━━┓\n",
       "┃<span style=\"font-weight: bold\"> Layer (type)                    </span>┃<span style=\"font-weight: bold\"> Output Shape           </span>┃<span style=\"font-weight: bold\">       Param # </span>┃\n",
       "┡━━━━━━━━━━━━━━━━━━━━━━━━━━━━━━━━━╇━━━━━━━━━━━━━━━━━━━━━━━━╇━━━━━━━━━━━━━━━┩\n",
       "│ embedding_4 (<span style=\"color: #0087ff; text-decoration-color: #0087ff\">Embedding</span>)         │ (<span style=\"color: #00d7ff; text-decoration-color: #00d7ff\">None</span>, <span style=\"color: #00af00; text-decoration-color: #00af00\">500</span>, <span style=\"color: #00af00; text-decoration-color: #00af00\">128</span>)       │     <span style=\"color: #00af00; text-decoration-color: #00af00\">1,280,000</span> │\n",
       "├─────────────────────────────────┼────────────────────────┼───────────────┤\n",
       "│ simple_rnn_4 (<span style=\"color: #0087ff; text-decoration-color: #0087ff\">SimpleRNN</span>)        │ (<span style=\"color: #00d7ff; text-decoration-color: #00d7ff\">None</span>, <span style=\"color: #00af00; text-decoration-color: #00af00\">128</span>)            │        <span style=\"color: #00af00; text-decoration-color: #00af00\">32,896</span> │\n",
       "├─────────────────────────────────┼────────────────────────┼───────────────┤\n",
       "│ dense_4 (<span style=\"color: #0087ff; text-decoration-color: #0087ff\">Dense</span>)                 │ (<span style=\"color: #00d7ff; text-decoration-color: #00d7ff\">None</span>, <span style=\"color: #00af00; text-decoration-color: #00af00\">1</span>)              │           <span style=\"color: #00af00; text-decoration-color: #00af00\">129</span> │\n",
       "└─────────────────────────────────┴────────────────────────┴───────────────┘\n",
       "</pre>\n"
      ],
      "text/plain": [
       "┏━━━━━━━━━━━━━━━━━━━━━━━━━━━━━━━━━┳━━━━━━━━━━━━━━━━━━━━━━━━┳━━━━━━━━━━━━━━━┓\n",
       "┃\u001b[1m \u001b[0m\u001b[1mLayer (type)                   \u001b[0m\u001b[1m \u001b[0m┃\u001b[1m \u001b[0m\u001b[1mOutput Shape          \u001b[0m\u001b[1m \u001b[0m┃\u001b[1m \u001b[0m\u001b[1m      Param #\u001b[0m\u001b[1m \u001b[0m┃\n",
       "┡━━━━━━━━━━━━━━━━━━━━━━━━━━━━━━━━━╇━━━━━━━━━━━━━━━━━━━━━━━━╇━━━━━━━━━━━━━━━┩\n",
       "│ embedding_4 (\u001b[38;5;33mEmbedding\u001b[0m)         │ (\u001b[38;5;45mNone\u001b[0m, \u001b[38;5;34m500\u001b[0m, \u001b[38;5;34m128\u001b[0m)       │     \u001b[38;5;34m1,280,000\u001b[0m │\n",
       "├─────────────────────────────────┼────────────────────────┼───────────────┤\n",
       "│ simple_rnn_4 (\u001b[38;5;33mSimpleRNN\u001b[0m)        │ (\u001b[38;5;45mNone\u001b[0m, \u001b[38;5;34m128\u001b[0m)            │        \u001b[38;5;34m32,896\u001b[0m │\n",
       "├─────────────────────────────────┼────────────────────────┼───────────────┤\n",
       "│ dense_4 (\u001b[38;5;33mDense\u001b[0m)                 │ (\u001b[38;5;45mNone\u001b[0m, \u001b[38;5;34m1\u001b[0m)              │           \u001b[38;5;34m129\u001b[0m │\n",
       "└─────────────────────────────────┴────────────────────────┴───────────────┘\n"
      ]
     },
     "metadata": {},
     "output_type": "display_data"
    },
    {
     "data": {
      "text/html": [
       "<pre style=\"white-space:pre;overflow-x:auto;line-height:normal;font-family:Menlo,'DejaVu Sans Mono',consolas,'Courier New',monospace\"><span style=\"font-weight: bold\"> Total params: </span><span style=\"color: #00af00; text-decoration-color: #00af00\">1,313,027</span> (5.01 MB)\n",
       "</pre>\n"
      ],
      "text/plain": [
       "\u001b[1m Total params: \u001b[0m\u001b[38;5;34m1,313,027\u001b[0m (5.01 MB)\n"
      ]
     },
     "metadata": {},
     "output_type": "display_data"
    },
    {
     "data": {
      "text/html": [
       "<pre style=\"white-space:pre;overflow-x:auto;line-height:normal;font-family:Menlo,'DejaVu Sans Mono',consolas,'Courier New',monospace\"><span style=\"font-weight: bold\"> Trainable params: </span><span style=\"color: #00af00; text-decoration-color: #00af00\">1,313,025</span> (5.01 MB)\n",
       "</pre>\n"
      ],
      "text/plain": [
       "\u001b[1m Trainable params: \u001b[0m\u001b[38;5;34m1,313,025\u001b[0m (5.01 MB)\n"
      ]
     },
     "metadata": {},
     "output_type": "display_data"
    },
    {
     "data": {
      "text/html": [
       "<pre style=\"white-space:pre;overflow-x:auto;line-height:normal;font-family:Menlo,'DejaVu Sans Mono',consolas,'Courier New',monospace\"><span style=\"font-weight: bold\"> Non-trainable params: </span><span style=\"color: #00af00; text-decoration-color: #00af00\">0</span> (0.00 B)\n",
       "</pre>\n"
      ],
      "text/plain": [
       "\u001b[1m Non-trainable params: \u001b[0m\u001b[38;5;34m0\u001b[0m (0.00 B)\n"
      ]
     },
     "metadata": {},
     "output_type": "display_data"
    },
    {
     "data": {
      "text/html": [
       "<pre style=\"white-space:pre;overflow-x:auto;line-height:normal;font-family:Menlo,'DejaVu Sans Mono',consolas,'Courier New',monospace\"><span style=\"font-weight: bold\"> Optimizer params: </span><span style=\"color: #00af00; text-decoration-color: #00af00\">2</span> (12.00 B)\n",
       "</pre>\n"
      ],
      "text/plain": [
       "\u001b[1m Optimizer params: \u001b[0m\u001b[38;5;34m2\u001b[0m (12.00 B)\n"
      ]
     },
     "metadata": {},
     "output_type": "display_data"
    }
   ],
   "source": [
    "## Load the pre-trained model with ReLU activation\n",
    "model = load_model(\"simple_rnn_imdb.h5\")\n",
    "model.summary()"
   ]
  },
  {
   "cell_type": "code",
   "execution_count": 6,
   "metadata": {},
   "outputs": [
    {
     "data": {
      "text/plain": [
       "[array([[-0.01798957,  0.04153121, -0.00861934, ..., -0.00165495,\n",
       "         -0.00672125, -0.03569239],\n",
       "        [-0.04631979,  0.06370518, -0.0376479 , ...,  0.0083816 ,\n",
       "          0.00658834, -0.01707903],\n",
       "        [ 0.02131241, -0.01195886, -0.04361238, ...,  0.03011663,\n",
       "         -0.03809243,  0.01603026],\n",
       "        ...,\n",
       "        [-0.0925032 ,  0.00200313, -0.01108193, ...,  0.01009991,\n",
       "          0.04078915, -0.03857407],\n",
       "        [-0.00453656,  0.00650759,  0.04219171, ..., -0.08843999,\n",
       "         -0.03737552,  0.03073869],\n",
       "        [ 0.06946873, -0.08236938, -0.06613503, ...,  0.00695666,\n",
       "          0.00874826,  0.02483061]], dtype=float32),\n",
       " array([[-0.1053868 ,  0.02786091, -0.05627218, ..., -0.07355238,\n",
       "         -0.11057305, -0.01907664],\n",
       "        [-0.0085025 , -0.15769799,  0.10073529, ..., -0.05930123,\n",
       "         -0.08262125, -0.02798687],\n",
       "        [-0.00771723,  0.00782578,  0.06107346, ...,  0.02858605,\n",
       "         -0.01808979, -0.03163886],\n",
       "        ...,\n",
       "        [ 0.0850486 , -0.07875156, -0.07252821, ..., -0.1772932 ,\n",
       "         -0.05437446,  0.0144187 ],\n",
       "        [-0.09965017, -0.12000715,  0.17929602, ..., -0.12088573,\n",
       "          0.12236186, -0.09505784],\n",
       "        [-0.07200411,  0.07347415, -0.09480919, ...,  0.03226054,\n",
       "          0.0622777 , -0.07469539]], dtype=float32),\n",
       " array([[-0.00042636,  0.0876433 ,  0.01468232, ...,  0.01284119,\n",
       "          0.0247025 , -0.02470727],\n",
       "        [ 0.05240005, -0.05791607, -0.10761168, ..., -0.00898145,\n",
       "          0.16371556, -0.03502373],\n",
       "        [-0.05057722, -0.13251878, -0.1544663 , ...,  0.16008486,\n",
       "          0.0421516 ,  0.0506463 ],\n",
       "        ...,\n",
       "        [-0.09248509, -0.0843689 , -0.21298338, ..., -0.06861702,\n",
       "          0.01388544,  0.02900213],\n",
       "        [ 0.0194138 , -0.03618124,  0.12398468, ...,  0.01909234,\n",
       "         -0.10399376,  0.14073393],\n",
       "        [ 0.00598001,  0.04766958, -0.08379038, ...,  0.09621624,\n",
       "         -0.00541536,  0.08182129]], dtype=float32),\n",
       " array([-0.00672912,  0.01331229,  0.01112672,  0.02422238, -0.0072279 ,\n",
       "         0.02597552, -0.0243316 , -0.01985458,  0.0281897 ,  0.03111772,\n",
       "         0.00568204, -0.0085592 , -0.00540418, -0.00949796, -0.00898433,\n",
       "         0.01529115,  0.02172929, -0.0137524 , -0.01513675, -0.01114535,\n",
       "        -0.02582198,  0.01614233,  0.00278467, -0.01459938, -0.01127566,\n",
       "         0.07471933, -0.04093742, -0.01333999,  0.01616528,  0.00034788,\n",
       "        -0.0237606 , -0.02119416,  0.00847934, -0.00384895,  0.00027322,\n",
       "        -0.01101228, -0.0055077 , -0.00834048, -0.01487818,  0.02812777,\n",
       "         0.0010498 ,  0.00468543, -0.00385786, -0.00832484, -0.00033847,\n",
       "         0.00424509, -0.00215667, -0.00426478, -0.01142199,  0.01065074,\n",
       "        -0.00825693,  0.01914729, -0.00256939, -0.00773869,  0.00374373,\n",
       "        -0.00828407,  0.01943372, -0.00874218, -0.01382529,  0.02611764,\n",
       "        -0.01145701, -0.00487507, -0.01683977, -0.01914275, -0.00772695,\n",
       "        -0.010384  ,  0.0157573 , -0.02141378, -0.00918103,  0.02327208,\n",
       "         0.01352243, -0.01705945, -0.01759495,  0.01922022, -0.01613165,\n",
       "         0.01663497, -0.01187008, -0.00675524, -0.03758318,  0.01731571,\n",
       "         0.00525368, -0.02794241, -0.01873696, -0.00623508, -0.01477796,\n",
       "         0.01396609, -0.01130728, -0.00092748, -0.00932632,  0.01486609,\n",
       "         0.01019612, -0.01543945, -0.02146658,  0.01087497,  0.02152502,\n",
       "        -0.0003745 ,  0.00255732,  0.01493955,  0.01558525,  0.02452162,\n",
       "         0.02183568,  0.01148693, -0.01833265, -0.01714527,  0.01462173,\n",
       "        -0.0021111 , -0.01445651, -0.01007714,  0.00634472, -0.00962789,\n",
       "        -0.00985816, -0.00098069, -0.00835656,  0.00107276, -0.00359726,\n",
       "         0.01166209,  0.01612034, -0.0105797 ,  0.00846961,  0.01935237,\n",
       "        -0.00740288,  0.00884716, -0.00279233, -0.01228651,  0.00533601,\n",
       "         0.0004278 ,  0.0012132 ,  0.01872386], dtype=float32),\n",
       " array([[-0.00199387],\n",
       "        [ 0.01365773],\n",
       "        [-0.07943343],\n",
       "        [ 0.15392178],\n",
       "        [-0.4868119 ],\n",
       "        [ 0.09447242],\n",
       "        [ 0.12732682],\n",
       "        [ 0.16373338],\n",
       "        [-0.13650429],\n",
       "        [ 0.07921975],\n",
       "        [-0.2246447 ],\n",
       "        [-0.02679183],\n",
       "        [-0.24226916],\n",
       "        [-0.01620606],\n",
       "        [-0.041874  ],\n",
       "        [ 0.66476065],\n",
       "        [ 0.00988271],\n",
       "        [-0.08702166],\n",
       "        [-0.48271662],\n",
       "        [-0.00749362],\n",
       "        [-0.15556486],\n",
       "        [ 0.02632234],\n",
       "        [-0.19531557],\n",
       "        [ 0.1219301 ],\n",
       "        [-0.2042403 ],\n",
       "        [-0.20460391],\n",
       "        [-0.02556167],\n",
       "        [ 0.02061407],\n",
       "        [ 0.10442691],\n",
       "        [-0.08685159],\n",
       "        [-0.16720395],\n",
       "        [-0.04156347],\n",
       "        [-0.19970146],\n",
       "        [ 0.20952283],\n",
       "        [-0.02196078],\n",
       "        [ 0.01940634],\n",
       "        [ 0.14197485],\n",
       "        [ 0.01132482],\n",
       "        [-0.2634139 ],\n",
       "        [ 0.09824267],\n",
       "        [-0.12191229],\n",
       "        [-0.2215395 ],\n",
       "        [-0.2500472 ],\n",
       "        [-0.15332448],\n",
       "        [-0.10011835],\n",
       "        [-0.12023444],\n",
       "        [ 0.08289601],\n",
       "        [-0.1995122 ],\n",
       "        [ 0.10713938],\n",
       "        [-0.09210227],\n",
       "        [ 0.12558374],\n",
       "        [ 0.08461323],\n",
       "        [-0.219912  ],\n",
       "        [-0.18459307],\n",
       "        [-0.18088506],\n",
       "        [-0.13969716],\n",
       "        [-0.06439996],\n",
       "        [-0.00336344],\n",
       "        [ 0.29431173],\n",
       "        [ 0.07933772],\n",
       "        [ 0.11316708],\n",
       "        [-0.1082436 ],\n",
       "        [-0.02360574],\n",
       "        [-0.22755077],\n",
       "        [-0.16726774],\n",
       "        [ 0.09825324],\n",
       "        [ 0.02400972],\n",
       "        [-0.40581954],\n",
       "        [-0.22017436],\n",
       "        [ 0.05606856],\n",
       "        [ 0.07609916],\n",
       "        [ 0.07241249],\n",
       "        [ 0.03913293],\n",
       "        [ 0.10116769],\n",
       "        [-0.10987319],\n",
       "        [ 0.11599647],\n",
       "        [-0.1597549 ],\n",
       "        [-0.11575739],\n",
       "        [ 0.10898954],\n",
       "        [ 0.11582249],\n",
       "        [-0.22795497],\n",
       "        [ 0.19238123],\n",
       "        [-0.15792195],\n",
       "        [-0.02552254],\n",
       "        [ 0.22993542],\n",
       "        [ 0.04357652],\n",
       "        [ 0.06877217],\n",
       "        [-0.1990495 ],\n",
       "        [-0.6175767 ],\n",
       "        [ 0.18972561],\n",
       "        [ 0.00992976],\n",
       "        [-0.08488786],\n",
       "        [ 0.35112622],\n",
       "        [ 0.10558873],\n",
       "        [-0.09520642],\n",
       "        [-0.04484861],\n",
       "        [-0.08480222],\n",
       "        [-0.18834636],\n",
       "        [-0.06433184],\n",
       "        [ 0.00118795],\n",
       "        [ 0.11526199],\n",
       "        [ 0.01192191],\n",
       "        [-0.01624688],\n",
       "        [ 0.02270353],\n",
       "        [-0.15753977],\n",
       "        [-0.07419975],\n",
       "        [-0.15872963],\n",
       "        [-0.13238809],\n",
       "        [-0.05571635],\n",
       "        [-0.20394334],\n",
       "        [-0.15195854],\n",
       "        [-0.22011192],\n",
       "        [-0.39788276],\n",
       "        [-0.07358097],\n",
       "        [ 0.07947049],\n",
       "        [-0.0891427 ],\n",
       "        [ 0.01880146],\n",
       "        [-0.12330393],\n",
       "        [ 0.00318759],\n",
       "        [-0.08594807],\n",
       "        [-0.17135318],\n",
       "        [-0.00985156],\n",
       "        [-0.10457735],\n",
       "        [-0.12183474],\n",
       "        [-0.14884   ],\n",
       "        [ 0.21389648],\n",
       "        [-0.18510945],\n",
       "        [-0.06593466]], dtype=float32),\n",
       " array([-0.06191922], dtype=float32)]"
      ]
     },
     "execution_count": 6,
     "metadata": {},
     "output_type": "execute_result"
    }
   ],
   "source": [
    "model.get_weights()"
   ]
  },
  {
   "cell_type": "code",
   "execution_count": 7,
   "metadata": {},
   "outputs": [],
   "source": [
    "## Step 2: Helper Functions\n",
    "# Function to decode reviews\n",
    "def decofe_review(encoded_review):\n",
    "    return \" \".join([reversed_word_index.get(i-3, \"?\") for i in encoded_review])\n",
    "\n",
    "## Function to preprocess user input\n",
    "def preprocess_text(text):\n",
    "    words = text.lower().split()\n",
    "    encoded_review = [word_index.get(word, 2) + 3 for word in words]\n",
    "    padded_review = sequence.pad_sequences([encoded_review], maxlen=500)\n",
    "    return padded_review"
   ]
  },
  {
   "cell_type": "code",
   "execution_count": 8,
   "metadata": {},
   "outputs": [],
   "source": [
    "## Prediction Function\n",
    "def predict_sentiment(review):\n",
    "    preprocessed_input = preprocess_text(review)\n",
    "    prediction = model.predict(preprocessed_input)\n",
    "    sentiment = \"Positive\" if prediction[0][0] > 0.5 else \"Negative\"\n",
    "    return sentiment, prediction[0][0]\n"
   ]
  },
  {
   "cell_type": "code",
   "execution_count": 9,
   "metadata": {},
   "outputs": [
    {
     "name": "stdout",
     "output_type": "stream",
     "text": [
      "\u001b[1m1/1\u001b[0m \u001b[32m━━━━━━━━━━━━━━━━━━━━\u001b[0m\u001b[37m\u001b[0m \u001b[1m1s\u001b[0m 855ms/step\n",
      "Review: This movie was fantastic! The acting was great and the plot was thrilling.\n",
      "Sentiment: Positive\n",
      "Prediction Score: 0.9459275007247925\n"
     ]
    }
   ],
   "source": [
    "## Step 4: User Input and Prediction\n",
    "## Example review for prediction\n",
    "example_review = \"This movie was fantastic! The acting was great and the plot was thrilling.\"\n",
    "\n",
    "sentiment, score = predict_sentiment(example_review)\n",
    "print(f\"Review: {example_review}\")\n",
    "print(f\"Sentiment: {sentiment}\")\n",
    "print(f\"Prediction Score: {score}\")"
   ]
  },
  {
   "cell_type": "code",
   "execution_count": null,
   "metadata": {},
   "outputs": [],
   "source": []
  }
 ],
 "metadata": {
  "kernelspec": {
   "display_name": "myenv",
   "language": "python",
   "name": "python3"
  },
  "language_info": {
   "codemirror_mode": {
    "name": "ipython",
    "version": 3
   },
   "file_extension": ".py",
   "mimetype": "text/x-python",
   "name": "python",
   "nbconvert_exporter": "python",
   "pygments_lexer": "ipython3",
   "version": "3.10.12"
  }
 },
 "nbformat": 4,
 "nbformat_minor": 2
}
